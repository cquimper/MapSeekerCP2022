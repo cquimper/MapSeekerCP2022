{
 "cells": [
  {
   "cell_type": "markdown",
   "id": "9a208b74",
   "metadata": {},
   "source": [
    "## Description of the generated objects\n",
    "\n",
    "> The files insides this directory are used to generate three combinatorials objects, namely :\n",
    "1. forest without isolated vertices noted _forest_\n",
    "2. forest with isolated vertices noted _forest0_\n",
    "3. trees noted _tree_\n",
    "\n",
    "> The goal of thoses scripts is to generate instances of the three objects where one of their characteristics are optimal acccording to their values. As exemples of characteristics, we have the greatest depth of a node noted _maxp_, the number of leaves noted _f_ or the number of nodes noted _v_ and etc...\n",
    "\n",
    "> The main method used to generate those objects is a dedicated algorithm of [Donald E. Knuth](https://www-cs-faculty.stanford.edu/~knuth/taocp.html) stated Algorithm O (_Oriented forest_) of his book titled _Art of Computer Programming, Volume 4, Fascicle 4, Generating All Trees, History of Combinatorial Generation_ \n",
    "\n",
    "## Command lines to generate the objects\n",
    "\n",
    "### Dependencies\n",
    "> The programs [`python3`](https://www.python.org/downloads/), [`GNU Parallel`](https://www.gnu.org/software/parallel/)  and [`sicstus`](https://sicstus.sics.se/download4.html) should be installed\n",
    "### Preparation for running the files to generate the combinatorials objects\n",
    "> During installing `sicstus` make sure to keep the path directory of installation as to use it to run the script below in the Terminal\n",
    "\n",
    "### Running the files to generate the combinatorial objects\n",
    "> To generate the combinatorial object _forest_, _forest0_, or _tree_, after making sure that you are in the same directory of thoses files, you just need to run in the Terminal the script below\n",
    "\n",
    "```./gen_forest.sh object full_path_where_is_installed_sicstus/sicstus```\n",
    "\n",
    "where `object` is either _forest_, _forest0_, or _tree_\n",
    "\n",
    "### Results of running the scripts above\n",
    "> After running the scripts above, the generated objects which have extremal values of their caracteristics and no more than 18 vertices are stored in the directory named _data_ "
   ]
  },
  {
   "cell_type": "code",
   "execution_count": null,
   "id": "a5a57dd4",
   "metadata": {},
   "outputs": [],
   "source": []
  }
 ],
 "metadata": {
  "kernelspec": {
   "display_name": "Python 3 (ipykernel)",
   "language": "python",
   "name": "python3"
  },
  "language_info": {
   "codemirror_mode": {
    "name": "ipython",
    "version": 3
   },
   "file_extension": ".py",
   "mimetype": "text/x-python",
   "name": "python",
   "nbconvert_exporter": "python",
   "pygments_lexer": "ipython3",
   "version": "3.9.7"
  }
 },
 "nbformat": 4,
 "nbformat_minor": 5
}
